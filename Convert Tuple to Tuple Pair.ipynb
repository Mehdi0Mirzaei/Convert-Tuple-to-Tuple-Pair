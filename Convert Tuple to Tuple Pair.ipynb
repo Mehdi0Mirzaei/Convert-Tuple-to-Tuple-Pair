{
 "cells": [
  {
   "cell_type": "code",
   "execution_count": 26,
   "id": "740c328c",
   "metadata": {},
   "outputs": [
    {
     "name": "stdout",
     "output_type": "stream",
     "text": [
      "((1, 2), (2, 3), (3, 4))\n"
     ]
    }
   ],
   "source": [
    "t = (1, 2, 3, 4)\n",
    " \n",
    "pair_tuple = tuple(zip(t[:-1], t[1:]))\n",
    " \n",
    "print(pair_tuple)  \n"
   ]
  },
  {
   "cell_type": "code",
   "execution_count": 27,
   "id": "0299662a",
   "metadata": {},
   "outputs": [
    {
     "name": "stdout",
     "output_type": "stream",
     "text": [
      "((1, 2), (2, 3), (3, 4))\n"
     ]
    }
   ],
   "source": [
    "t = (1, 2, 3, 4)\n",
    "pair_tuple = tuple((t[i], t[i+1]) for i in range(len(t)-1))\n",
    "print(pair_tuple)"
   ]
  },
  {
   "cell_type": "code",
   "execution_count": 28,
   "id": "8ec79df0",
   "metadata": {},
   "outputs": [
    {
     "name": "stdout",
     "output_type": "stream",
     "text": [
      "((1, 2), (2, 3), (3, 4))\n"
     ]
    }
   ],
   "source": [
    "# Define a tuple of integers\n",
    "t = (1, 2, 3, 4)\n",
    " \n",
    "# Create a tuple of pairs by iterating over `t` and selecting adjacent elements\n",
    "pair_tuple = tuple((t[i], t[i+1]) for i in range(len(t)-1))\n",
    " \n",
    "# Print the tuple of pairs\n",
    "print(pair_tuple)"
   ]
  },
  {
   "cell_type": "code",
   "execution_count": 29,
   "id": "845ff40e",
   "metadata": {},
   "outputs": [
    {
     "name": "stdout",
     "output_type": "stream",
     "text": [
      "((1, 2), (2, 3), (3, 4))\n"
     ]
    }
   ],
   "source": [
    "def pair_tuple(t):\n",
    "    # Base case: if the tuple has less than two elements, return an empty tuple\n",
    "    if len(t) < 2:\n",
    "        return ()\n",
    " # Recursive case: create a tuple of pairs by combining each element with its adjacent element\n",
    "    return ((t[i], t[i+1]) for i in range(len(t)-1))\n",
    " \n",
    "# Define a tuple of integers\n",
    "t = (1, 2, 3, 4)\n",
    " \n",
    "# Create a tuple of pairs by calling the pair_tuple function\n",
    "pair_tuple = tuple(pair_tuple(t))\n",
    " \n",
    "# Print the tuple of pairs\n",
    "print(pair_tuple)"
   ]
  },
  {
   "cell_type": "code",
   "execution_count": 30,
   "id": "c0043be2",
   "metadata": {},
   "outputs": [
    {
     "name": "stdout",
     "output_type": "stream",
     "text": [
      "((1, 2), (2, 3), (3, 4))\n"
     ]
    }
   ],
   "source": [
    "def pair_tuple(t):\n",
    "    # Use the map() function to create an iterator of tuples\n",
    "    pairs_iter = map(lambda i: (t[i], t[i+1]), range(len(t)-1))\n",
    " # Convert the iterator to a tuple\n",
    "    pairs = tuple(pairs_iter)\n",
    " \n",
    "    return pairs\n",
    "# Define a tuple of integers\n",
    "t = (1, 2, 3, 4)\n",
    " \n",
    "# Create a tuple of pairs by calling the pair_tuple function\n",
    "pair_tuple = pair_tuple(t)\n",
    " \n",
    "# Print the tuple of pairs\n",
    "print(pair_tuple)"
   ]
  },
  {
   "cell_type": "code",
   "execution_count": 31,
   "id": "436f94c2",
   "metadata": {},
   "outputs": [
    {
     "name": "stdout",
     "output_type": "stream",
     "text": [
      "The original tuple : (1, 2, 3, 4)\n",
      "The paired records : ((1, 2), (2, 3), (3, 4))\n"
     ]
    }
   ],
   "source": [
    "import numpy as np\n",
    " \n",
    "# Define a tuple of integers\n",
    "t = (1, 2, 3, 4)\n",
    "# printing original tuple\n",
    "print(\"The original tuple : \" + str(t))\n",
    "  \n",
    "# Convert the tuple to a numpy array\n",
    "a = np.array(t)\n",
    " \n",
    "# Shift the array by one element\n",
    "shifted_a = np.roll(a, -1)\n",
    " \n",
    "# Combine the original and shifted arrays and reshape into pairs\n",
    "res = tuple(zip(a, shifted_a))[:-1]\n",
    " \n",
    " # printing result\n",
    "print(\"The paired records : \" + str(res))"
   ]
  },
  {
   "cell_type": "code",
   "execution_count": null,
   "id": "6c6aeb76",
   "metadata": {},
   "outputs": [],
   "source": []
  }
 ],
 "metadata": {
  "kernelspec": {
   "display_name": "Python 3 (ipykernel)",
   "language": "python",
   "name": "python3"
  },
  "language_info": {
   "codemirror_mode": {
    "name": "ipython",
    "version": 3
   },
   "file_extension": ".py",
   "mimetype": "text/x-python",
   "name": "python",
   "nbconvert_exporter": "python",
   "pygments_lexer": "ipython3",
   "version": "3.9.13"
  }
 },
 "nbformat": 4,
 "nbformat_minor": 5
}
